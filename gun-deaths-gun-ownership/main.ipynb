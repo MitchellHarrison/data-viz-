{
 "cells": [
  {
   "cell_type": "markdown",
   "id": "b9fd4191",
   "metadata": {},
   "source": [
    "# Gun deaths/ownership per capita\n",
    "\n",
    "I recently saw this image on a left-leaning political YouTube channel, and it seemed like it would be a fun thing to verify, since it seems to play into the anti-firearm narrative of the left, as there is an apparent correlation between gun ownership in general and gun deaths from all causes.\n",
    "\n",
    "![chart](inspo.jpg)\n",
    "\n",
    "I have pulled population/demographic data, gun ownership data, and gun fatality data to see if my results look similar. I will also color each dot by the winner of the presidential election of that state in the 2020 election.\n",
    "\n",
    "Sources are as follows:\n",
    "- [Gun fatalities (CDC)](https://www.cdc.gov/nchs/pressroom/sosmap/firearm_mortality/firearm.htm)\n",
    "- [Population per state 2020 (US Census)](https://data.census.gov/cedsci/table?q=population%20by%20state&tid=DECENNIALPL2020.P1)\n",
    "- [Gun ownership rates (World Population Review)](https://worldpopulationreview.com/state-rankings/gun-ownership-by-state)\n",
    "- [2020 Presidential Election results](https://www.cookpolitical.com/2020-national-popular-vote-tracker)\n",
    "\n",
    "So we are going to do some light analysis to see if we the above chart is roughly accurate. "
   ]
  },
  {
   "cell_type": "code",
   "execution_count": null,
   "id": "dec596b5",
   "metadata": {},
   "outputs": [],
   "source": [
    "import pandas as pd\n",
    "import numpy as np\n",
    "import seaborn as sns\n",
    "import matplotlib.pyplot as plt\n",
    "import matplotlib.ticker as mtick\n",
    "sns.set()"
   ]
  },
  {
   "cell_type": "markdown",
   "id": "8954b26e",
   "metadata": {},
   "source": [
    "## Election Result Data"
   ]
  },
  {
   "cell_type": "code",
   "execution_count": null,
   "id": "b5206730",
   "metadata": {},
   "outputs": [],
   "source": [
    "election_results = pd.read_csv(\"election-results.csv\")\n",
    "election_results.head()"
   ]
  },
  {
   "cell_type": "markdown",
   "id": "2f402a6c",
   "metadata": {},
   "source": [
    "We only need which party won, so while this data is interesting, we will drop the vast majority of it."
   ]
  },
  {
   "cell_type": "code",
   "execution_count": null,
   "id": "b85835b3",
   "metadata": {},
   "outputs": [],
   "source": [
    "cols = [\"state\", \"stateid\", \"called\"]\n",
    "election_results = election_results[cols]\n",
    "\n",
    "# rename stateid column for ease of joining\n",
    "election_results.rename(columns = {\"stateid\": \"state_id\"}, inplace=True)\n",
    "election_results.head()"
   ]
  },
  {
   "cell_type": "markdown",
   "id": "9643e7f2",
   "metadata": {},
   "source": [
    "Maine and Nebraska split their electors, so we will color them gray in the final plot. That in mind, we will remove their split electors for ease of use with the rest of the data, which is totalled by state. Additionally, since we don't have DC in our gun ownership data, we will have to drop it from here as well."
   ]
  },
  {
   "cell_type": "code",
   "execution_count": null,
   "id": "6d49f59e",
   "metadata": {
    "scrolled": false
   },
   "outputs": [],
   "source": [
    "is_split = election_results[\"state_id\"].str.len() > 2\n",
    "is_dc = election_results[\"state_id\"] == \"DC\"\n",
    "election_results = election_results[~is_split & ~is_dc]\n",
    "election_results.shape"
   ]
  },
  {
   "cell_type": "markdown",
   "id": "ac008631",
   "metadata": {},
   "source": [
    "## Simplifying population data"
   ]
  },
  {
   "cell_type": "code",
   "execution_count": null,
   "id": "3017db6f",
   "metadata": {},
   "outputs": [],
   "source": [
    "population = pd.read_csv(\"state-population.csv\")\n",
    "population.head()"
   ]
  },
  {
   "cell_type": "code",
   "execution_count": null,
   "id": "505e2c12",
   "metadata": {},
   "outputs": [],
   "source": [
    "population = population.iloc[0].reset_index()\n",
    "population.columns = [\"state\", \"population\"]\n",
    "population = population[1:]\n",
    "population.sample(5)"
   ]
  },
  {
   "cell_type": "markdown",
   "id": "249e2699",
   "metadata": {},
   "source": [
    "The population column contains commas, which mean's it's currently a column of strings. If we are going to plot it, it needs to be integers, so we can fix that."
   ]
  },
  {
   "cell_type": "code",
   "execution_count": null,
   "id": "8002167d",
   "metadata": {},
   "outputs": [],
   "source": [
    "population[\"population\"] = population[\"population\"].str.replace(\",\", \"\").astype(np.int64)\n",
    "population.info()"
   ]
  },
  {
   "cell_type": "code",
   "execution_count": null,
   "id": "46ee85a4",
   "metadata": {},
   "outputs": [],
   "source": [
    "population.shape"
   ]
  },
  {
   "cell_type": "markdown",
   "id": "251fdb77",
   "metadata": {},
   "source": [
    "Too many rows means DC and Puerto Rico are still here. Since they aren't in our ownership data, we will have to drop them."
   ]
  },
  {
   "cell_type": "code",
   "execution_count": null,
   "id": "50c57743",
   "metadata": {},
   "outputs": [],
   "source": [
    "to_drop = population[\"state\"].isin([\"District of Columbia\", \"Puerto Rico\"])\n",
    "population = population[~to_drop]\n",
    "population.shape"
   ]
  },
  {
   "cell_type": "markdown",
   "id": "f2091a55",
   "metadata": {},
   "source": [
    "## Gun Ownership Data"
   ]
  },
  {
   "cell_type": "code",
   "execution_count": null,
   "id": "187ecc44",
   "metadata": {
    "scrolled": true
   },
   "outputs": [],
   "source": [
    "gun_ownership = pd.read_csv(\"gun-ownership.csv\")\n",
    "\n",
    "# rename columns for ease of joining\n",
    "gun_ownership.rename(columns = {\"gunOwnership\": \"gun_own_rate\"}, inplace=True)\n",
    "gun_ownership.columns = gun_ownership.columns.str.lower()\n",
    "gun_ownership.head()"
   ]
  },
  {
   "cell_type": "markdown",
   "id": "5eced135",
   "metadata": {},
   "source": [
    "We won't need the total number of guns registered per state for this analysis, so we can drop that. Note that this is the dataset that does not contain DC, hence the shape starting at 50 rows."
   ]
  },
  {
   "cell_type": "code",
   "execution_count": null,
   "id": "5b968e89",
   "metadata": {},
   "outputs": [],
   "source": [
    "gun_ownership.drop(\"totalguns\", axis=1, inplace=True)\n",
    "gun_ownership.shape"
   ]
  },
  {
   "cell_type": "markdown",
   "id": "e329efb4",
   "metadata": {},
   "source": [
    "## Gun Fatalities Data"
   ]
  },
  {
   "cell_type": "code",
   "execution_count": null,
   "id": "3639222a",
   "metadata": {},
   "outputs": [],
   "source": [
    "gun_death = pd.read_csv(\"gun-deaths.csv\")\n",
    "gun_death.columns = gun_death.columns.str.lower()\n",
    "\n",
    "# rename state column for ease of joining\n",
    "gun_death.rename(columns = {\"state\": \"state_id\"}, inplace = True)\n",
    "gun_death.head()"
   ]
  },
  {
   "cell_type": "code",
   "execution_count": null,
   "id": "4b8ee091",
   "metadata": {},
   "outputs": [],
   "source": [
    "gun_death.shape"
   ]
  },
  {
   "cell_type": "markdown",
   "id": "993f38b5",
   "metadata": {},
   "source": [
    "Clearly there are far too many rows here. I assume that this is because of there being multiple years, so we can find that out and clean it up. Also, we won't need the URL, RATE, or YEAR columns once we figure out why our data is so large."
   ]
  },
  {
   "cell_type": "code",
   "execution_count": null,
   "id": "a7f2d5ae",
   "metadata": {},
   "outputs": [],
   "source": [
    "gun_death[\"year\"].unique()"
   ]
  },
  {
   "cell_type": "markdown",
   "id": "00c21141",
   "metadata": {},
   "source": [
    "As expected, too many years. We are working with 2020 population data, so we will keep 2020 here as well, and then drop those excess columns."
   ]
  },
  {
   "cell_type": "code",
   "execution_count": null,
   "id": "40e69e43",
   "metadata": {},
   "outputs": [],
   "source": [
    "is_2020 = gun_death[\"year\"] == 2020\n",
    "gun_death = gun_death[is_2020]\n",
    "gun_death.drop([\"url\", \"rate\", \"year\"], axis=1, inplace=True)\n",
    "gun_death.shape"
   ]
  },
  {
   "cell_type": "code",
   "execution_count": null,
   "id": "c0ceab03",
   "metadata": {},
   "outputs": [],
   "source": [
    "gun_death.columns = [\"state_id\", \"gun_deaths\"]\n",
    "gun_death.head()"
   ]
  },
  {
   "cell_type": "markdown",
   "id": "4daafac7",
   "metadata": {},
   "source": [
    "## Join all data into one dataframe"
   ]
  },
  {
   "cell_type": "code",
   "execution_count": null,
   "id": "726f2f72",
   "metadata": {},
   "outputs": [],
   "source": [
    "# merge population, gun ownwership, and election result data using \"state\" header\n",
    "combined = election_results.merge(population, how=\"inner\", on=\"state\")\n",
    "combined = combined.merge(gun_ownership, how=\"inner\", on=\"state\")\n",
    "combined.sample(5)"
   ]
  },
  {
   "cell_type": "code",
   "execution_count": null,
   "id": "2528b68d",
   "metadata": {},
   "outputs": [],
   "source": [
    "# annotate states with split electors\n",
    "combined.loc[combined[\"called\"].isin([\"ME\",\"NE\"]), \"called\"] = \"S\"\n",
    "\n",
    "# merge gun death data with the rest using \"state_id\" header\n",
    "combined = combined.merge(gun_death, how=\"inner\", on=\"state_id\")\n",
    "\n",
    "# rename \"called\" column to be more descriptive\n",
    "combined.rename(columns = {\"called\": \"elec_winner\"}, inplace=True)\n",
    "combined"
   ]
  },
  {
   "cell_type": "markdown",
   "id": "06211ead",
   "metadata": {},
   "source": [
    "Calculating gun fatalities per 100,000 residents per the chart in question:"
   ]
  },
  {
   "cell_type": "code",
   "execution_count": null,
   "id": "e16e8a8b",
   "metadata": {},
   "outputs": [],
   "source": [
    "combined[\"deaths_per_capita\"] = combined[\"gun_deaths\"] / (combined[\"population\"] / 100000)\n",
    "combined.sample(5)"
   ]
  },
  {
   "cell_type": "markdown",
   "id": "cd5607ca",
   "metadata": {},
   "source": [
    "## Plot ownership/fatality correlation"
   ]
  },
  {
   "cell_type": "code",
   "execution_count": null,
   "id": "5df887a1",
   "metadata": {},
   "outputs": [],
   "source": [
    "REP = \"#e94949\"\n",
    "DEM = \"#2b90e7\"\n",
    "SPLIT = \"#d4d4d4\"\n",
    "fig = plt.figure(figsize=(15,9))\n",
    "\n",
    "sns.set(rc={\n",
    "    \"axes.facecolor\": \"#1c1c20\",\n",
    "    \"figure.facecolor\": \"#1c1c20\"\n",
    "})\n",
    "\n",
    "# calculate line of best fit\n",
    "x = combined[\"gun_own_rate\"]\n",
    "y = combined[\"deaths_per_capita\"]\n",
    "m,b = np.polyfit(x,y,1)\n",
    "\n",
    "# plot line of best fit\n",
    "y = (m * x) + b\n",
    "line = sns.lineplot(x=x ,y=y, linewidth=3, color=\"white\", alpha=0.5)\n",
    "\n",
    "# plot scatter\n",
    "ax_rep = sns.scatterplot(\n",
    "    x = \"gun_own_rate\",\n",
    "    y = \"deaths_per_capita\",\n",
    "    data = combined[combined[\"elec_winner\"] == \"R\"],\n",
    "    s = 300,\n",
    "    color = REP,\n",
    "    alpha = 1,\n",
    "    label = \"Donald Trump\"\n",
    ")\n",
    "\n",
    "ax_dem = sns.scatterplot(\n",
    "    x = \"gun_own_rate\",\n",
    "    y = \"deaths_per_capita\",\n",
    "    data = combined[combined[\"elec_winner\"] == \"D\"],\n",
    "    s = 300,\n",
    "    color = DEM,\n",
    "    alpha = 1,\n",
    "    label = \"Joe Biden\"\n",
    ")\n",
    "\n",
    "ax_split = sns.scatterplot(\n",
    "    x = \"gun_own_rate\",\n",
    "    y = \"deaths_per_capita\",\n",
    "    data = combined[combined[\"elec_winner\"] == \"S\"],\n",
    "    s = 300,\n",
    "    color = SPLIT,\n",
    "    alpha = 1,\n",
    "    label = \"Split Electors\"\n",
    ")\n",
    "\n",
    "plt.title(\n",
    "    \"Gun Ownership vs. Gun Deaths (2020)\", \n",
    "    fontsize = 35, \n",
    "    fontweight = \"bold\", \n",
    "    pad = 20, \n",
    "    color = \"white\",\n",
    "    fontname = \"AppleMyungjo\"\n",
    ")\n",
    "\n",
    "# customize legend\n",
    "legend = plt.legend(\n",
    "    title = \"2020 Presidential Victors\", \n",
    "    fontsize=13,\n",
    "    labelcolor = \"white\",\n",
    "    frameon = False\n",
    ")\n",
    "\n",
    "# change size of marker in the legend\n",
    "for handle in legend.legendHandles:\n",
    "    handle.set_sizes([90])\n",
    "    \n",
    "plt.setp(legend.get_title(), color=\"white\", fontsize=15)\n",
    "\n",
    "# customize axes\n",
    "ax_rep.grid(False)\n",
    "ax_rep.spines[[\"top\",\"right\"]].set_visible(False)\n",
    "xticks = ax_rep.get_xticks().tolist()\n",
    "ax_rep.xaxis.set_major_locator(mtick.FixedLocator(xticks))\n",
    "ax_rep.set_xticklabels([\"\", \"20%\", \"30%\", \"40%\", \"50%\", \"60%\", \"\"])\n",
    "\n",
    "plt.xticks(color=\"white\", fontsize=16)\n",
    "plt.yticks(color=\"white\", fontsize=16)\n",
    "plt.ylabel(\"Gun Deaths per 100,000 Citizens\", color=\"white\", fontsize=16)\n",
    "plt.xlabel(\"Percent of Population Owning Guns\", color=\"white\", fontsize=16)\n",
    "\n",
    "plt.savefig(\"final.png\", bbox_inches=\"tight\")\n",
    "\n",
    "plt.show()"
   ]
  },
  {
   "cell_type": "markdown",
   "id": "8ff534a2",
   "metadata": {},
   "source": [
    "## Conclusion\n",
    "\n",
    "While our data looks different than the original, there does still seem to be a positive correlation between gun ownership rates and gun fatality rates. This does not necessarily prove causation, and many on the right argue that we should only count gun murders, not all gun fatalities. However, the data presented in the video in question was likely sound. \n",
    "\n",
    "The distinction between party affiliation is interesting as well, with Republican states clearly among the top in both gun ownership and fatality. The opposite extreme is held exclusively by Democratic-leaning states, while many from both parties lie towards the middle.\n",
    "\n",
    "Overall, this was an interesting and fun project and I think the insights are valuable. My choice to neglect individual state labels came down to a matter of time, but if anyone wants to clone this notebook and label them, I would happily pull it into [the GitHub repository where this project is kept](https://github.com/MitchellHarrison/data-viz-for-social-media).\n",
    "\n",
    "Thanks for reading! Feel free to stop by [my Twitch stream](https://twitch.tv/mitchsworkshop) where we will build more policy-focussed data visualization soon. "
   ]
  },
  {
   "cell_type": "code",
   "execution_count": null,
   "id": "7dbf6355",
   "metadata": {},
   "outputs": [],
   "source": []
  }
 ],
 "metadata": {
  "kernelspec": {
   "display_name": "Python 3 (ipykernel)",
   "language": "python",
   "name": "python3"
  },
  "language_info": {
   "codemirror_mode": {
    "name": "ipython",
    "version": 3
   },
   "file_extension": ".py",
   "mimetype": "text/x-python",
   "name": "python",
   "nbconvert_exporter": "python",
   "pygments_lexer": "ipython3",
   "version": "3.9.12"
  }
 },
 "nbformat": 4,
 "nbformat_minor": 5
}
