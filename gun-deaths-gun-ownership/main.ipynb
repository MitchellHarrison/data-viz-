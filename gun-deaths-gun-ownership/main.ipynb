{
 "cells": [
  {
   "cell_type": "markdown",
   "id": "0640ffbd",
   "metadata": {},
   "source": [
    "# Gun deaths/ownership per capita\n",
    "\n",
    "I recently saw this image on a left-leaning political YouTube channel, and it seemed like it would be a fun thing to verify, since it seems to play into the anti-firearm narrative of the left, as there is an apparent correlation between gun ownership in general and gun deaths from all causes.\n",
    "\n",
    "![chart](inspo.jpg)\n",
    "\n",
    "I have pulled population/demographic data, gun ownership data, and gun fatality data to see if my results look similar. I will also color each dot by the winner of the presidential election of that state in the 2020 election.\n",
    "\n",
    "Sources are as follows:\n",
    "- [Gun fatalities (CDC)](https://www.cdc.gov/nchs/pressroom/sosmap/firearm_mortality/firearm.htm)\n",
    "- [Population per state 2020 (US Census)](https://data.census.gov/cedsci/table?q=population%20by%20state&tid=DECENNIALPL2020.P1)\n",
    "- [Gun ownership rates (World Population Review)](https://worldpopulationreview.com/state-rankings/gun-ownership-by-state)\n",
    "- [2020 Presidential Election results](https://www.cookpolitical.com/2020-national-popular-vote-tracker)\n",
    "\n",
    "So we are going to do some light analysis to see if we the above chart is roughly accurate. "
   ]
  },
  {
   "cell_type": "code",
   "execution_count": 101,
   "id": "9505ea38",
   "metadata": {},
   "outputs": [],
   "source": [
    "import pandas as pd\n",
    "import numpy as np\n",
    "import seaborn as sns\n",
    "import matplotlib.pyplot as plt\n",
    "import matplotlib.ticker as mtick\n",
    "sns.set()"
   ]
  },
  {
   "cell_type": "markdown",
   "id": "44cc545f",
   "metadata": {},
   "source": [
    "## Election Result Data"
   ]
  },
  {
   "cell_type": "code",
   "execution_count": 2,
   "id": "9704559c",
   "metadata": {},
   "outputs": [
    {
     "data": {
      "text/html": [
       "<div>\n",
       "<style scoped>\n",
       "    .dataframe tbody tr th:only-of-type {\n",
       "        vertical-align: middle;\n",
       "    }\n",
       "\n",
       "    .dataframe tbody tr th {\n",
       "        vertical-align: top;\n",
       "    }\n",
       "\n",
       "    .dataframe thead th {\n",
       "        text-align: right;\n",
       "    }\n",
       "</style>\n",
       "<table border=\"1\" class=\"dataframe\">\n",
       "  <thead>\n",
       "    <tr style=\"text-align: right;\">\n",
       "      <th></th>\n",
       "      <th>state</th>\n",
       "      <th>called</th>\n",
       "      <th>final</th>\n",
       "      <th>dem_votes</th>\n",
       "      <th>rep_votes</th>\n",
       "      <th>other_votes</th>\n",
       "      <th>dem_percent</th>\n",
       "      <th>rep_percent</th>\n",
       "      <th>other_percent</th>\n",
       "      <th>dem_this_margin</th>\n",
       "      <th>...</th>\n",
       "      <th>stateid</th>\n",
       "      <th>EV</th>\n",
       "      <th>X</th>\n",
       "      <th>Y</th>\n",
       "      <th>State_num</th>\n",
       "      <th>Center_X</th>\n",
       "      <th>Center_Y</th>\n",
       "      <th>Unnamed: 19</th>\n",
       "      <th>2016 Margin</th>\n",
       "      <th>Total 2016 Votes</th>\n",
       "    </tr>\n",
       "  </thead>\n",
       "  <tbody>\n",
       "    <tr>\n",
       "      <th>0</th>\n",
       "      <td>Arizona</td>\n",
       "      <td>D</td>\n",
       "      <td>Yes</td>\n",
       "      <td>1,672,143</td>\n",
       "      <td>1,661,686</td>\n",
       "      <td>53,497</td>\n",
       "      <td>49.4%</td>\n",
       "      <td>49.1%</td>\n",
       "      <td>1.6%</td>\n",
       "      <td>0.3%</td>\n",
       "      <td>...</td>\n",
       "      <td>AZ</td>\n",
       "      <td>11</td>\n",
       "      <td>2</td>\n",
       "      <td>2</td>\n",
       "      <td>4</td>\n",
       "      <td>205</td>\n",
       "      <td>374</td>\n",
       "      <td>NaN</td>\n",
       "      <td>-0.035456</td>\n",
       "      <td>2,573,165</td>\n",
       "    </tr>\n",
       "    <tr>\n",
       "      <th>1</th>\n",
       "      <td>Florida</td>\n",
       "      <td>R</td>\n",
       "      <td>Yes</td>\n",
       "      <td>5,297,045</td>\n",
       "      <td>5,668,731</td>\n",
       "      <td>101,680</td>\n",
       "      <td>47.9%</td>\n",
       "      <td>51.2%</td>\n",
       "      <td>0.9%</td>\n",
       "      <td>-3.4%</td>\n",
       "      <td>...</td>\n",
       "      <td>FL</td>\n",
       "      <td>29</td>\n",
       "      <td>8</td>\n",
       "      <td>0</td>\n",
       "      <td>12</td>\n",
       "      <td>787</td>\n",
       "      <td>520</td>\n",
       "      <td>NaN</td>\n",
       "      <td>-0.011986</td>\n",
       "      <td>9,420,039</td>\n",
       "    </tr>\n",
       "    <tr>\n",
       "      <th>2</th>\n",
       "      <td>Georgia</td>\n",
       "      <td>D</td>\n",
       "      <td>Yes</td>\n",
       "      <td>2,473,633</td>\n",
       "      <td>2,461,854</td>\n",
       "      <td>62,229</td>\n",
       "      <td>49.5%</td>\n",
       "      <td>49.3%</td>\n",
       "      <td>1.2%</td>\n",
       "      <td>0.2%</td>\n",
       "      <td>...</td>\n",
       "      <td>GA</td>\n",
       "      <td>16</td>\n",
       "      <td>7</td>\n",
       "      <td>1</td>\n",
       "      <td>13</td>\n",
       "      <td>734</td>\n",
       "      <td>419</td>\n",
       "      <td>NaN</td>\n",
       "      <td>-0.051313</td>\n",
       "      <td>4,092,373</td>\n",
       "    </tr>\n",
       "    <tr>\n",
       "      <th>3</th>\n",
       "      <td>Iowa</td>\n",
       "      <td>R</td>\n",
       "      <td>Yes</td>\n",
       "      <td>759,061</td>\n",
       "      <td>897,672</td>\n",
       "      <td>34,138</td>\n",
       "      <td>44.9%</td>\n",
       "      <td>53.1%</td>\n",
       "      <td>2.0%</td>\n",
       "      <td>-8.2%</td>\n",
       "      <td>...</td>\n",
       "      <td>IA</td>\n",
       "      <td>6</td>\n",
       "      <td>5</td>\n",
       "      <td>4</td>\n",
       "      <td>19</td>\n",
       "      <td>536</td>\n",
       "      <td>223</td>\n",
       "      <td>NaN</td>\n",
       "      <td>-0.094068</td>\n",
       "      <td>1,566,031</td>\n",
       "    </tr>\n",
       "    <tr>\n",
       "      <th>4</th>\n",
       "      <td>Maine 2nd District</td>\n",
       "      <td>R</td>\n",
       "      <td>Yes</td>\n",
       "      <td>168,696</td>\n",
       "      <td>196,692</td>\n",
       "      <td>10,961</td>\n",
       "      <td>44.8%</td>\n",
       "      <td>52.3%</td>\n",
       "      <td>2.9%</td>\n",
       "      <td>-7.4%</td>\n",
       "      <td>...</td>\n",
       "      <td>ME2</td>\n",
       "      <td>1</td>\n",
       "      <td>12</td>\n",
       "      <td>8</td>\n",
       "      <td>102</td>\n",
       "      <td>919</td>\n",
       "      <td>92</td>\n",
       "      <td>NaN</td>\n",
       "      <td>-0.102882</td>\n",
       "      <td>353,416</td>\n",
       "    </tr>\n",
       "  </tbody>\n",
       "</table>\n",
       "<p>5 rows × 22 columns</p>\n",
       "</div>"
      ],
      "text/plain": [
       "                state called final  dem_votes  rep_votes other_votes  \\\n",
       "0             Arizona      D   Yes  1,672,143  1,661,686      53,497   \n",
       "1             Florida      R   Yes  5,297,045  5,668,731     101,680   \n",
       "2             Georgia      D   Yes  2,473,633  2,461,854      62,229   \n",
       "3                Iowa      R   Yes    759,061    897,672      34,138   \n",
       "4  Maine 2nd District      R   Yes    168,696    196,692      10,961   \n",
       "\n",
       "  dem_percent rep_percent other_percent dem_this_margin  ... stateid  EV   X  \\\n",
       "0       49.4%       49.1%          1.6%            0.3%  ...      AZ  11   2   \n",
       "1       47.9%       51.2%          0.9%           -3.4%  ...      FL  29   8   \n",
       "2       49.5%       49.3%          1.2%            0.2%  ...      GA  16   7   \n",
       "3       44.9%       53.1%          2.0%           -8.2%  ...      IA   6   5   \n",
       "4       44.8%       52.3%          2.9%           -7.4%  ...     ME2   1  12   \n",
       "\n",
       "   Y  State_num  Center_X  Center_Y  Unnamed: 19  2016 Margin  \\\n",
       "0  2          4       205       374          NaN    -0.035456   \n",
       "1  0         12       787       520          NaN    -0.011986   \n",
       "2  1         13       734       419          NaN    -0.051313   \n",
       "3  4         19       536       223          NaN    -0.094068   \n",
       "4  8        102       919        92          NaN    -0.102882   \n",
       "\n",
       "   Total 2016 Votes  \n",
       "0         2,573,165  \n",
       "1         9,420,039  \n",
       "2         4,092,373  \n",
       "3         1,566,031  \n",
       "4           353,416  \n",
       "\n",
       "[5 rows x 22 columns]"
      ]
     },
     "execution_count": 2,
     "metadata": {},
     "output_type": "execute_result"
    }
   ],
   "source": [
    "election_results = pd.read_csv(\"election-results.csv\")\n",
    "election_results.head()"
   ]
  },
  {
   "cell_type": "markdown",
   "id": "e763a94c",
   "metadata": {},
   "source": [
    "We only need which party won, so while this data is interesting, we will drop the vast majority of it."
   ]
  },
  {
   "cell_type": "code",
   "execution_count": 3,
   "id": "9942e872",
   "metadata": {},
   "outputs": [
    {
     "data": {
      "text/html": [
       "<div>\n",
       "<style scoped>\n",
       "    .dataframe tbody tr th:only-of-type {\n",
       "        vertical-align: middle;\n",
       "    }\n",
       "\n",
       "    .dataframe tbody tr th {\n",
       "        vertical-align: top;\n",
       "    }\n",
       "\n",
       "    .dataframe thead th {\n",
       "        text-align: right;\n",
       "    }\n",
       "</style>\n",
       "<table border=\"1\" class=\"dataframe\">\n",
       "  <thead>\n",
       "    <tr style=\"text-align: right;\">\n",
       "      <th></th>\n",
       "      <th>state</th>\n",
       "      <th>state_id</th>\n",
       "      <th>called</th>\n",
       "    </tr>\n",
       "  </thead>\n",
       "  <tbody>\n",
       "    <tr>\n",
       "      <th>0</th>\n",
       "      <td>Arizona</td>\n",
       "      <td>AZ</td>\n",
       "      <td>D</td>\n",
       "    </tr>\n",
       "    <tr>\n",
       "      <th>1</th>\n",
       "      <td>Florida</td>\n",
       "      <td>FL</td>\n",
       "      <td>R</td>\n",
       "    </tr>\n",
       "    <tr>\n",
       "      <th>2</th>\n",
       "      <td>Georgia</td>\n",
       "      <td>GA</td>\n",
       "      <td>D</td>\n",
       "    </tr>\n",
       "    <tr>\n",
       "      <th>3</th>\n",
       "      <td>Iowa</td>\n",
       "      <td>IA</td>\n",
       "      <td>R</td>\n",
       "    </tr>\n",
       "    <tr>\n",
       "      <th>4</th>\n",
       "      <td>Maine 2nd District</td>\n",
       "      <td>ME2</td>\n",
       "      <td>R</td>\n",
       "    </tr>\n",
       "  </tbody>\n",
       "</table>\n",
       "</div>"
      ],
      "text/plain": [
       "                state state_id called\n",
       "0             Arizona       AZ      D\n",
       "1             Florida       FL      R\n",
       "2             Georgia       GA      D\n",
       "3                Iowa       IA      R\n",
       "4  Maine 2nd District      ME2      R"
      ]
     },
     "execution_count": 3,
     "metadata": {},
     "output_type": "execute_result"
    }
   ],
   "source": [
    "cols = [\"state\", \"stateid\", \"called\"]\n",
    "election_results = election_results[cols]\n",
    "\n",
    "# rename stateid column for ease of joining\n",
    "election_results.rename(columns = {\"stateid\": \"state_id\"}, inplace=True)\n",
    "election_results.head()"
   ]
  },
  {
   "cell_type": "markdown",
   "id": "ff78febe",
   "metadata": {},
   "source": [
    "Maine and Nebraska split their electors, so we will color them gray in the final plot. That in mind, we will remove their split electors for ease of use with the rest of the data, which is totalled by state. Additionally, since we don't have DC in our gun ownership data, we will have to drop it from here as well."
   ]
  },
  {
   "cell_type": "code",
   "execution_count": 4,
   "id": "e8ea2c98",
   "metadata": {
    "scrolled": false
   },
   "outputs": [
    {
     "data": {
      "text/plain": [
       "(50, 3)"
      ]
     },
     "execution_count": 4,
     "metadata": {},
     "output_type": "execute_result"
    }
   ],
   "source": [
    "is_split = election_results[\"state_id\"].str.len() > 2\n",
    "is_dc = election_results[\"state_id\"] == \"DC\"\n",
    "election_results = election_results[~is_split & ~is_dc]\n",
    "election_results.shape"
   ]
  },
  {
   "cell_type": "markdown",
   "id": "2e29b22b",
   "metadata": {},
   "source": [
    "## Simplifying population data"
   ]
  },
  {
   "cell_type": "code",
   "execution_count": 5,
   "id": "84bf5e95",
   "metadata": {},
   "outputs": [
    {
     "data": {
      "text/html": [
       "<div>\n",
       "<style scoped>\n",
       "    .dataframe tbody tr th:only-of-type {\n",
       "        vertical-align: middle;\n",
       "    }\n",
       "\n",
       "    .dataframe tbody tr th {\n",
       "        vertical-align: top;\n",
       "    }\n",
       "\n",
       "    .dataframe thead th {\n",
       "        text-align: right;\n",
       "    }\n",
       "</style>\n",
       "<table border=\"1\" class=\"dataframe\">\n",
       "  <thead>\n",
       "    <tr style=\"text-align: right;\">\n",
       "      <th></th>\n",
       "      <th>Label (Grouping)</th>\n",
       "      <th>Alabama</th>\n",
       "      <th>Alaska</th>\n",
       "      <th>Arizona</th>\n",
       "      <th>Arkansas</th>\n",
       "      <th>California</th>\n",
       "      <th>Colorado</th>\n",
       "      <th>Connecticut</th>\n",
       "      <th>Delaware</th>\n",
       "      <th>District of Columbia</th>\n",
       "      <th>...</th>\n",
       "      <th>Tennessee</th>\n",
       "      <th>Texas</th>\n",
       "      <th>Utah</th>\n",
       "      <th>Vermont</th>\n",
       "      <th>Virginia</th>\n",
       "      <th>Washington</th>\n",
       "      <th>West Virginia</th>\n",
       "      <th>Wisconsin</th>\n",
       "      <th>Wyoming</th>\n",
       "      <th>Puerto Rico</th>\n",
       "    </tr>\n",
       "  </thead>\n",
       "  <tbody>\n",
       "    <tr>\n",
       "      <th>0</th>\n",
       "      <td>Total:</td>\n",
       "      <td>5,024,279</td>\n",
       "      <td>733,391</td>\n",
       "      <td>7,151,502</td>\n",
       "      <td>3,011,524</td>\n",
       "      <td>39,538,223</td>\n",
       "      <td>5,773,714</td>\n",
       "      <td>3,605,944</td>\n",
       "      <td>989,948</td>\n",
       "      <td>689,545</td>\n",
       "      <td>...</td>\n",
       "      <td>6,910,840</td>\n",
       "      <td>29,145,505</td>\n",
       "      <td>3,271,616</td>\n",
       "      <td>643,077</td>\n",
       "      <td>8,631,393</td>\n",
       "      <td>7,705,281</td>\n",
       "      <td>1,793,716</td>\n",
       "      <td>5,893,718</td>\n",
       "      <td>576,851</td>\n",
       "      <td>3,285,874</td>\n",
       "    </tr>\n",
       "    <tr>\n",
       "      <th>1</th>\n",
       "      <td>Population of one race:</td>\n",
       "      <td>4,767,326</td>\n",
       "      <td>643,867</td>\n",
       "      <td>6,154,696</td>\n",
       "      <td>2,797,949</td>\n",
       "      <td>33,777,988</td>\n",
       "      <td>5,066,044</td>\n",
       "      <td>3,273,040</td>\n",
       "      <td>913,430</td>\n",
       "      <td>633,468</td>\n",
       "      <td>...</td>\n",
       "      <td>6,497,942</td>\n",
       "      <td>24,011,767</td>\n",
       "      <td>2,992,603</td>\n",
       "      <td>606,051</td>\n",
       "      <td>7,925,686</td>\n",
       "      <td>6,868,622</td>\n",
       "      <td>1,708,772</td>\n",
       "      <td>5,534,184</td>\n",
       "      <td>533,378</td>\n",
       "      <td>1,650,083</td>\n",
       "    </tr>\n",
       "    <tr>\n",
       "      <th>2</th>\n",
       "      <td>White alone</td>\n",
       "      <td>3,220,452</td>\n",
       "      <td>435,392</td>\n",
       "      <td>4,322,337</td>\n",
       "      <td>2,114,512</td>\n",
       "      <td>16,296,122</td>\n",
       "      <td>4,082,927</td>\n",
       "      <td>2,395,128</td>\n",
       "      <td>597,763</td>\n",
       "      <td>273,194</td>\n",
       "      <td>...</td>\n",
       "      <td>4,990,938</td>\n",
       "      <td>14,609,365</td>\n",
       "      <td>2,573,413</td>\n",
       "      <td>577,751</td>\n",
       "      <td>5,208,856</td>\n",
       "      <td>5,130,920</td>\n",
       "      <td>1,610,749</td>\n",
       "      <td>4,737,545</td>\n",
       "      <td>488,374</td>\n",
       "      <td>560,592</td>\n",
       "    </tr>\n",
       "    <tr>\n",
       "      <th>3</th>\n",
       "      <td>Black or African American alone</td>\n",
       "      <td>1,296,162</td>\n",
       "      <td>21,898</td>\n",
       "      <td>339,150</td>\n",
       "      <td>453,783</td>\n",
       "      <td>2,237,044</td>\n",
       "      <td>234,828</td>\n",
       "      <td>388,675</td>\n",
       "      <td>218,899</td>\n",
       "      <td>285,810</td>\n",
       "      <td>...</td>\n",
       "      <td>1,092,948</td>\n",
       "      <td>3,552,997</td>\n",
       "      <td>40,058</td>\n",
       "      <td>9,034</td>\n",
       "      <td>1,607,581</td>\n",
       "      <td>307,565</td>\n",
       "      <td>65,813</td>\n",
       "      <td>376,256</td>\n",
       "      <td>5,232</td>\n",
       "      <td>228,711</td>\n",
       "    </tr>\n",
       "    <tr>\n",
       "      <th>4</th>\n",
       "      <td>American Indian and Alaska Native alone</td>\n",
       "      <td>33,625</td>\n",
       "      <td>111,575</td>\n",
       "      <td>319,512</td>\n",
       "      <td>27,177</td>\n",
       "      <td>631,016</td>\n",
       "      <td>74,129</td>\n",
       "      <td>16,051</td>\n",
       "      <td>5,148</td>\n",
       "      <td>3,193</td>\n",
       "      <td>...</td>\n",
       "      <td>28,044</td>\n",
       "      <td>278,948</td>\n",
       "      <td>41,644</td>\n",
       "      <td>2,289</td>\n",
       "      <td>40,007</td>\n",
       "      <td>121,468</td>\n",
       "      <td>3,706</td>\n",
       "      <td>60,428</td>\n",
       "      <td>13,898</td>\n",
       "      <td>17,870</td>\n",
       "    </tr>\n",
       "  </tbody>\n",
       "</table>\n",
       "<p>5 rows × 53 columns</p>\n",
       "</div>"
      ],
      "text/plain": [
       "                                  Label (Grouping)    Alabama   Alaska  \\\n",
       "0                                           Total:  5,024,279  733,391   \n",
       "1                          Population of one race:  4,767,326  643,867   \n",
       "2                                      White alone  3,220,452  435,392   \n",
       "3                  Black or African American alone  1,296,162   21,898   \n",
       "4          American Indian and Alaska Native alone     33,625  111,575   \n",
       "\n",
       "     Arizona   Arkansas  California   Colorado Connecticut Delaware  \\\n",
       "0  7,151,502  3,011,524  39,538,223  5,773,714   3,605,944  989,948   \n",
       "1  6,154,696  2,797,949  33,777,988  5,066,044   3,273,040  913,430   \n",
       "2  4,322,337  2,114,512  16,296,122  4,082,927   2,395,128  597,763   \n",
       "3    339,150    453,783   2,237,044    234,828     388,675  218,899   \n",
       "4    319,512     27,177     631,016     74,129      16,051    5,148   \n",
       "\n",
       "  District of Columbia  ...  Tennessee       Texas       Utah  Vermont  \\\n",
       "0              689,545  ...  6,910,840  29,145,505  3,271,616  643,077   \n",
       "1              633,468  ...  6,497,942  24,011,767  2,992,603  606,051   \n",
       "2              273,194  ...  4,990,938  14,609,365  2,573,413  577,751   \n",
       "3              285,810  ...  1,092,948   3,552,997     40,058    9,034   \n",
       "4                3,193  ...     28,044     278,948     41,644    2,289   \n",
       "\n",
       "    Virginia Washington West Virginia  Wisconsin  Wyoming Puerto Rico  \n",
       "0  8,631,393  7,705,281     1,793,716  5,893,718  576,851   3,285,874  \n",
       "1  7,925,686  6,868,622     1,708,772  5,534,184  533,378   1,650,083  \n",
       "2  5,208,856  5,130,920     1,610,749  4,737,545  488,374     560,592  \n",
       "3  1,607,581    307,565        65,813    376,256    5,232     228,711  \n",
       "4     40,007    121,468         3,706     60,428   13,898      17,870  \n",
       "\n",
       "[5 rows x 53 columns]"
      ]
     },
     "execution_count": 5,
     "metadata": {},
     "output_type": "execute_result"
    }
   ],
   "source": [
    "population = pd.read_csv(\"state-population.csv\")\n",
    "population.head()"
   ]
  },
  {
   "cell_type": "code",
   "execution_count": 6,
   "id": "56268702",
   "metadata": {},
   "outputs": [
    {
     "data": {
      "text/html": [
       "<div>\n",
       "<style scoped>\n",
       "    .dataframe tbody tr th:only-of-type {\n",
       "        vertical-align: middle;\n",
       "    }\n",
       "\n",
       "    .dataframe tbody tr th {\n",
       "        vertical-align: top;\n",
       "    }\n",
       "\n",
       "    .dataframe thead th {\n",
       "        text-align: right;\n",
       "    }\n",
       "</style>\n",
       "<table border=\"1\" class=\"dataframe\">\n",
       "  <thead>\n",
       "    <tr style=\"text-align: right;\">\n",
       "      <th></th>\n",
       "      <th>state</th>\n",
       "      <th>population</th>\n",
       "    </tr>\n",
       "  </thead>\n",
       "  <tbody>\n",
       "    <tr>\n",
       "      <th>36</th>\n",
       "      <td>Ohio</td>\n",
       "      <td>11,799,448</td>\n",
       "    </tr>\n",
       "    <tr>\n",
       "      <th>42</th>\n",
       "      <td>South Dakota</td>\n",
       "      <td>886,667</td>\n",
       "    </tr>\n",
       "    <tr>\n",
       "      <th>30</th>\n",
       "      <td>New Hampshire</td>\n",
       "      <td>1,377,529</td>\n",
       "    </tr>\n",
       "    <tr>\n",
       "      <th>6</th>\n",
       "      <td>Colorado</td>\n",
       "      <td>5,773,714</td>\n",
       "    </tr>\n",
       "    <tr>\n",
       "      <th>45</th>\n",
       "      <td>Utah</td>\n",
       "      <td>3,271,616</td>\n",
       "    </tr>\n",
       "  </tbody>\n",
       "</table>\n",
       "</div>"
      ],
      "text/plain": [
       "            state  population\n",
       "36           Ohio  11,799,448\n",
       "42   South Dakota     886,667\n",
       "30  New Hampshire   1,377,529\n",
       "6        Colorado   5,773,714\n",
       "45           Utah   3,271,616"
      ]
     },
     "execution_count": 6,
     "metadata": {},
     "output_type": "execute_result"
    }
   ],
   "source": [
    "population = population.iloc[0].reset_index()\n",
    "population.columns = [\"state\", \"population\"]\n",
    "population = population[1:]\n",
    "population.sample(5)"
   ]
  },
  {
   "cell_type": "markdown",
   "id": "9f1e04df",
   "metadata": {},
   "source": [
    "The population column contains commas, which mean's it's currently a column of strings. If we are going to plot it, it needs to be integers, so we can fix that."
   ]
  },
  {
   "cell_type": "code",
   "execution_count": 7,
   "id": "d84bea55",
   "metadata": {},
   "outputs": [
    {
     "name": "stdout",
     "output_type": "stream",
     "text": [
      "<class 'pandas.core.frame.DataFrame'>\n",
      "RangeIndex: 52 entries, 1 to 52\n",
      "Data columns (total 2 columns):\n",
      " #   Column      Non-Null Count  Dtype \n",
      "---  ------      --------------  ----- \n",
      " 0   state       52 non-null     object\n",
      " 1   population  52 non-null     int64 \n",
      "dtypes: int64(1), object(1)\n",
      "memory usage: 964.0+ bytes\n"
     ]
    }
   ],
   "source": [
    "population[\"population\"] = population[\"population\"].str.replace(\",\", \"\").astype(np.int64)\n",
    "population.info()"
   ]
  },
  {
   "cell_type": "code",
   "execution_count": 8,
   "id": "3841d7b7",
   "metadata": {},
   "outputs": [
    {
     "data": {
      "text/plain": [
       "(52, 2)"
      ]
     },
     "execution_count": 8,
     "metadata": {},
     "output_type": "execute_result"
    }
   ],
   "source": [
    "population.shape"
   ]
  },
  {
   "cell_type": "markdown",
   "id": "36efee55",
   "metadata": {},
   "source": [
    "Too many rows means DC and Puerto Rico are still here. Since they aren't in our ownership data, we will have to drop them."
   ]
  },
  {
   "cell_type": "code",
   "execution_count": 9,
   "id": "d67fdffa",
   "metadata": {},
   "outputs": [
    {
     "data": {
      "text/plain": [
       "(50, 2)"
      ]
     },
     "execution_count": 9,
     "metadata": {},
     "output_type": "execute_result"
    }
   ],
   "source": [
    "to_drop = population[\"state\"].isin([\"District of Columbia\", \"Puerto Rico\"])\n",
    "population = population[~to_drop]\n",
    "population.shape"
   ]
  },
  {
   "cell_type": "markdown",
   "id": "6eaa3fdf",
   "metadata": {},
   "source": [
    "## Gun Ownership Data"
   ]
  },
  {
   "cell_type": "code",
   "execution_count": 10,
   "id": "385dcc7e",
   "metadata": {
    "scrolled": true
   },
   "outputs": [
    {
     "data": {
      "text/html": [
       "<div>\n",
       "<style scoped>\n",
       "    .dataframe tbody tr th:only-of-type {\n",
       "        vertical-align: middle;\n",
       "    }\n",
       "\n",
       "    .dataframe tbody tr th {\n",
       "        vertical-align: top;\n",
       "    }\n",
       "\n",
       "    .dataframe thead th {\n",
       "        text-align: right;\n",
       "    }\n",
       "</style>\n",
       "<table border=\"1\" class=\"dataframe\">\n",
       "  <thead>\n",
       "    <tr style=\"text-align: right;\">\n",
       "      <th></th>\n",
       "      <th>state</th>\n",
       "      <th>gun_own_rate</th>\n",
       "      <th>totalguns</th>\n",
       "    </tr>\n",
       "  </thead>\n",
       "  <tbody>\n",
       "    <tr>\n",
       "      <th>0</th>\n",
       "      <td>Montana</td>\n",
       "      <td>0.663</td>\n",
       "      <td>22133</td>\n",
       "    </tr>\n",
       "    <tr>\n",
       "      <th>1</th>\n",
       "      <td>Wyoming</td>\n",
       "      <td>0.662</td>\n",
       "      <td>132806</td>\n",
       "    </tr>\n",
       "    <tr>\n",
       "      <th>2</th>\n",
       "      <td>Alaska</td>\n",
       "      <td>0.645</td>\n",
       "      <td>15824</td>\n",
       "    </tr>\n",
       "    <tr>\n",
       "      <th>3</th>\n",
       "      <td>Idaho</td>\n",
       "      <td>0.601</td>\n",
       "      <td>49566</td>\n",
       "    </tr>\n",
       "    <tr>\n",
       "      <th>4</th>\n",
       "      <td>West Virginia</td>\n",
       "      <td>0.585</td>\n",
       "      <td>35264</td>\n",
       "    </tr>\n",
       "  </tbody>\n",
       "</table>\n",
       "</div>"
      ],
      "text/plain": [
       "           state  gun_own_rate  totalguns\n",
       "0        Montana         0.663      22133\n",
       "1        Wyoming         0.662     132806\n",
       "2         Alaska         0.645      15824\n",
       "3          Idaho         0.601      49566\n",
       "4  West Virginia         0.585      35264"
      ]
     },
     "execution_count": 10,
     "metadata": {},
     "output_type": "execute_result"
    }
   ],
   "source": [
    "gun_ownership = pd.read_csv(\"gun-ownership.csv\")\n",
    "\n",
    "# rename columns for ease of joining\n",
    "gun_ownership.rename(columns = {\"gunOwnership\": \"gun_own_rate\"}, inplace=True)\n",
    "gun_ownership.columns = gun_ownership.columns.str.lower()\n",
    "gun_ownership.head()"
   ]
  },
  {
   "cell_type": "markdown",
   "id": "5112e205",
   "metadata": {},
   "source": [
    "We won't need the total number of guns registered per state for this analysis, so we can drop that. Note that this is the dataset that does not contain DC, hence the shape starting at 50 rows."
   ]
  },
  {
   "cell_type": "code",
   "execution_count": 11,
   "id": "446b6db4",
   "metadata": {},
   "outputs": [
    {
     "data": {
      "text/plain": [
       "(50, 2)"
      ]
     },
     "execution_count": 11,
     "metadata": {},
     "output_type": "execute_result"
    }
   ],
   "source": [
    "gun_ownership.drop(\"totalguns\", axis=1, inplace=True)\n",
    "gun_ownership.shape"
   ]
  },
  {
   "cell_type": "markdown",
   "id": "b24bb04c",
   "metadata": {},
   "source": [
    "## Gun Fatalities Data"
   ]
  },
  {
   "cell_type": "code",
   "execution_count": 12,
   "id": "6527614d",
   "metadata": {},
   "outputs": [
    {
     "data": {
      "text/html": [
       "<div>\n",
       "<style scoped>\n",
       "    .dataframe tbody tr th:only-of-type {\n",
       "        vertical-align: middle;\n",
       "    }\n",
       "\n",
       "    .dataframe tbody tr th {\n",
       "        vertical-align: top;\n",
       "    }\n",
       "\n",
       "    .dataframe thead th {\n",
       "        text-align: right;\n",
       "    }\n",
       "</style>\n",
       "<table border=\"1\" class=\"dataframe\">\n",
       "  <thead>\n",
       "    <tr style=\"text-align: right;\">\n",
       "      <th></th>\n",
       "      <th>year</th>\n",
       "      <th>state_id</th>\n",
       "      <th>rate</th>\n",
       "      <th>deaths</th>\n",
       "      <th>url</th>\n",
       "    </tr>\n",
       "  </thead>\n",
       "  <tbody>\n",
       "    <tr>\n",
       "      <th>0</th>\n",
       "      <td>2020</td>\n",
       "      <td>AL</td>\n",
       "      <td>23.6</td>\n",
       "      <td>1141</td>\n",
       "      <td>/nchs/pressroom/states/alabama/al.htm</td>\n",
       "    </tr>\n",
       "    <tr>\n",
       "      <th>1</th>\n",
       "      <td>2020</td>\n",
       "      <td>AK</td>\n",
       "      <td>23.5</td>\n",
       "      <td>175</td>\n",
       "      <td>/nchs/pressroom/states/alaska/ak.htm</td>\n",
       "    </tr>\n",
       "    <tr>\n",
       "      <th>2</th>\n",
       "      <td>2020</td>\n",
       "      <td>AZ</td>\n",
       "      <td>16.7</td>\n",
       "      <td>1265</td>\n",
       "      <td>/nchs/pressroom/states/arizona/az.htm</td>\n",
       "    </tr>\n",
       "    <tr>\n",
       "      <th>3</th>\n",
       "      <td>2020</td>\n",
       "      <td>AR</td>\n",
       "      <td>22.6</td>\n",
       "      <td>673</td>\n",
       "      <td>/nchs/pressroom/states/arkansas/ar.htm</td>\n",
       "    </tr>\n",
       "    <tr>\n",
       "      <th>4</th>\n",
       "      <td>2020</td>\n",
       "      <td>CA</td>\n",
       "      <td>8.5</td>\n",
       "      <td>3449</td>\n",
       "      <td>/nchs/pressroom/states/california/ca.htm</td>\n",
       "    </tr>\n",
       "  </tbody>\n",
       "</table>\n",
       "</div>"
      ],
      "text/plain": [
       "   year state_id  rate  deaths                                       url\n",
       "0  2020       AL  23.6    1141     /nchs/pressroom/states/alabama/al.htm\n",
       "1  2020       AK  23.5     175      /nchs/pressroom/states/alaska/ak.htm\n",
       "2  2020       AZ  16.7    1265     /nchs/pressroom/states/arizona/az.htm\n",
       "3  2020       AR  22.6     673    /nchs/pressroom/states/arkansas/ar.htm\n",
       "4  2020       CA   8.5    3449  /nchs/pressroom/states/california/ca.htm"
      ]
     },
     "execution_count": 12,
     "metadata": {},
     "output_type": "execute_result"
    }
   ],
   "source": [
    "gun_death = pd.read_csv(\"gun-deaths.csv\")\n",
    "gun_death.columns = gun_death.columns.str.lower()\n",
    "\n",
    "# rename state column for ease of joining\n",
    "gun_death.rename(columns = {\"state\": \"state_id\"}, inplace = True)\n",
    "gun_death.head()"
   ]
  },
  {
   "cell_type": "code",
   "execution_count": 13,
   "id": "2435583a",
   "metadata": {},
   "outputs": [
    {
     "data": {
      "text/plain": [
       "(400, 5)"
      ]
     },
     "execution_count": 13,
     "metadata": {},
     "output_type": "execute_result"
    }
   ],
   "source": [
    "gun_death.shape"
   ]
  },
  {
   "cell_type": "markdown",
   "id": "5e184a80",
   "metadata": {},
   "source": [
    "Clearly there are far too many rows here. I assume that this is because of there being multiple years, so we can find that out and clean it up. Also, we won't need the URL, RATE, or YEAR columns once we figure out why our data is so large."
   ]
  },
  {
   "cell_type": "code",
   "execution_count": 14,
   "id": "a7f8e94f",
   "metadata": {},
   "outputs": [
    {
     "data": {
      "text/plain": [
       "array([2020, 2019, 2018, 2017, 2016, 2015, 2014, 2005])"
      ]
     },
     "execution_count": 14,
     "metadata": {},
     "output_type": "execute_result"
    }
   ],
   "source": [
    "gun_death[\"year\"].unique()"
   ]
  },
  {
   "cell_type": "markdown",
   "id": "073abb57",
   "metadata": {},
   "source": [
    "As expected, too many years. We are working with 2020 population data, so we will keep 2020 here as well, and then drop those excess columns."
   ]
  },
  {
   "cell_type": "code",
   "execution_count": 15,
   "id": "523f6000",
   "metadata": {},
   "outputs": [
    {
     "data": {
      "text/plain": [
       "(50, 2)"
      ]
     },
     "execution_count": 15,
     "metadata": {},
     "output_type": "execute_result"
    }
   ],
   "source": [
    "is_2020 = gun_death[\"year\"] == 2020\n",
    "gun_death = gun_death[is_2020]\n",
    "gun_death.drop([\"url\", \"rate\", \"year\"], axis=1, inplace=True)\n",
    "gun_death.shape"
   ]
  },
  {
   "cell_type": "code",
   "execution_count": 16,
   "id": "14213e76",
   "metadata": {},
   "outputs": [
    {
     "data": {
      "text/html": [
       "<div>\n",
       "<style scoped>\n",
       "    .dataframe tbody tr th:only-of-type {\n",
       "        vertical-align: middle;\n",
       "    }\n",
       "\n",
       "    .dataframe tbody tr th {\n",
       "        vertical-align: top;\n",
       "    }\n",
       "\n",
       "    .dataframe thead th {\n",
       "        text-align: right;\n",
       "    }\n",
       "</style>\n",
       "<table border=\"1\" class=\"dataframe\">\n",
       "  <thead>\n",
       "    <tr style=\"text-align: right;\">\n",
       "      <th></th>\n",
       "      <th>state_id</th>\n",
       "      <th>gun_deaths</th>\n",
       "    </tr>\n",
       "  </thead>\n",
       "  <tbody>\n",
       "    <tr>\n",
       "      <th>0</th>\n",
       "      <td>AL</td>\n",
       "      <td>1141</td>\n",
       "    </tr>\n",
       "    <tr>\n",
       "      <th>1</th>\n",
       "      <td>AK</td>\n",
       "      <td>175</td>\n",
       "    </tr>\n",
       "    <tr>\n",
       "      <th>2</th>\n",
       "      <td>AZ</td>\n",
       "      <td>1265</td>\n",
       "    </tr>\n",
       "    <tr>\n",
       "      <th>3</th>\n",
       "      <td>AR</td>\n",
       "      <td>673</td>\n",
       "    </tr>\n",
       "    <tr>\n",
       "      <th>4</th>\n",
       "      <td>CA</td>\n",
       "      <td>3449</td>\n",
       "    </tr>\n",
       "  </tbody>\n",
       "</table>\n",
       "</div>"
      ],
      "text/plain": [
       "  state_id  gun_deaths\n",
       "0       AL        1141\n",
       "1       AK         175\n",
       "2       AZ        1265\n",
       "3       AR         673\n",
       "4       CA        3449"
      ]
     },
     "execution_count": 16,
     "metadata": {},
     "output_type": "execute_result"
    }
   ],
   "source": [
    "gun_death.columns = [\"state_id\", \"gun_deaths\"]\n",
    "gun_death.head()"
   ]
  },
  {
   "cell_type": "markdown",
   "id": "cae9b1f1",
   "metadata": {},
   "source": [
    "## Join all data into one dataframe"
   ]
  },
  {
   "cell_type": "code",
   "execution_count": 17,
   "id": "450f9676",
   "metadata": {},
   "outputs": [
    {
     "data": {
      "text/html": [
       "<div>\n",
       "<style scoped>\n",
       "    .dataframe tbody tr th:only-of-type {\n",
       "        vertical-align: middle;\n",
       "    }\n",
       "\n",
       "    .dataframe tbody tr th {\n",
       "        vertical-align: top;\n",
       "    }\n",
       "\n",
       "    .dataframe thead th {\n",
       "        text-align: right;\n",
       "    }\n",
       "</style>\n",
       "<table border=\"1\" class=\"dataframe\">\n",
       "  <thead>\n",
       "    <tr style=\"text-align: right;\">\n",
       "      <th></th>\n",
       "      <th>state</th>\n",
       "      <th>state_id</th>\n",
       "      <th>called</th>\n",
       "      <th>population</th>\n",
       "      <th>gun_own_rate</th>\n",
       "    </tr>\n",
       "  </thead>\n",
       "  <tbody>\n",
       "    <tr>\n",
       "      <th>41</th>\n",
       "      <td>South Carolina</td>\n",
       "      <td>SC</td>\n",
       "      <td>R</td>\n",
       "      <td>5118425</td>\n",
       "      <td>0.494</td>\n",
       "    </tr>\n",
       "    <tr>\n",
       "      <th>2</th>\n",
       "      <td>Georgia</td>\n",
       "      <td>GA</td>\n",
       "      <td>D</td>\n",
       "      <td>10711908</td>\n",
       "      <td>0.492</td>\n",
       "    </tr>\n",
       "    <tr>\n",
       "      <th>12</th>\n",
       "      <td>Wisconsin</td>\n",
       "      <td>WI</td>\n",
       "      <td>D</td>\n",
       "      <td>5893718</td>\n",
       "      <td>0.453</td>\n",
       "    </tr>\n",
       "    <tr>\n",
       "      <th>18</th>\n",
       "      <td>Connecticut</td>\n",
       "      <td>CT</td>\n",
       "      <td>D</td>\n",
       "      <td>3605944</td>\n",
       "      <td>0.236</td>\n",
       "    </tr>\n",
       "    <tr>\n",
       "      <th>45</th>\n",
       "      <td>Vermont</td>\n",
       "      <td>VT</td>\n",
       "      <td>D</td>\n",
       "      <td>643077</td>\n",
       "      <td>0.505</td>\n",
       "    </tr>\n",
       "  </tbody>\n",
       "</table>\n",
       "</div>"
      ],
      "text/plain": [
       "             state state_id called  population  gun_own_rate\n",
       "41  South Carolina       SC      R     5118425         0.494\n",
       "2          Georgia       GA      D    10711908         0.492\n",
       "12       Wisconsin       WI      D     5893718         0.453\n",
       "18     Connecticut       CT      D     3605944         0.236\n",
       "45         Vermont       VT      D      643077         0.505"
      ]
     },
     "execution_count": 17,
     "metadata": {},
     "output_type": "execute_result"
    }
   ],
   "source": [
    "# merge population, gun ownwership, and election result data using \"state\" header\n",
    "combined = election_results.merge(population, how=\"inner\", on=\"state\")\n",
    "combined = combined.merge(gun_ownership, how=\"inner\", on=\"state\")\n",
    "combined.sample(5)"
   ]
  },
  {
   "cell_type": "code",
   "execution_count": 18,
   "id": "028ea402",
   "metadata": {},
   "outputs": [],
   "source": [
    "# merge gun death data with the rest using \"state_id\" header\n",
    "combined = combined.merge(gun_death, how=\"inner\", on=\"state_id\")\n",
    "\n",
    "# rename \"called\" column to be more descriptive\n",
    "combined.rename(columns = {\"called\": \"elec_winner\"}, inplace=True)"
   ]
  },
  {
   "cell_type": "markdown",
   "id": "ab2678b9",
   "metadata": {},
   "source": [
    "Calculating gun fatalities per 100,000 residents per the chart in question:"
   ]
  },
  {
   "cell_type": "code",
   "execution_count": 21,
   "id": "603e0385",
   "metadata": {},
   "outputs": [
    {
     "data": {
      "text/html": [
       "<div>\n",
       "<style scoped>\n",
       "    .dataframe tbody tr th:only-of-type {\n",
       "        vertical-align: middle;\n",
       "    }\n",
       "\n",
       "    .dataframe tbody tr th {\n",
       "        vertical-align: top;\n",
       "    }\n",
       "\n",
       "    .dataframe thead th {\n",
       "        text-align: right;\n",
       "    }\n",
       "</style>\n",
       "<table border=\"1\" class=\"dataframe\">\n",
       "  <thead>\n",
       "    <tr style=\"text-align: right;\">\n",
       "      <th></th>\n",
       "      <th>state</th>\n",
       "      <th>state_id</th>\n",
       "      <th>elec_winner</th>\n",
       "      <th>population</th>\n",
       "      <th>gun_own_rate</th>\n",
       "      <th>gun_deaths</th>\n",
       "      <th>deaths_per_capita</th>\n",
       "    </tr>\n",
       "  </thead>\n",
       "  <tbody>\n",
       "    <tr>\n",
       "      <th>1</th>\n",
       "      <td>Florida</td>\n",
       "      <td>FL</td>\n",
       "      <td>R</td>\n",
       "      <td>21538187</td>\n",
       "      <td>0.353</td>\n",
       "      <td>3041</td>\n",
       "      <td>14.119109</td>\n",
       "    </tr>\n",
       "    <tr>\n",
       "      <th>25</th>\n",
       "      <td>Kentucky</td>\n",
       "      <td>KY</td>\n",
       "      <td>R</td>\n",
       "      <td>4505836</td>\n",
       "      <td>0.546</td>\n",
       "      <td>902</td>\n",
       "      <td>20.018483</td>\n",
       "    </tr>\n",
       "    <tr>\n",
       "      <th>46</th>\n",
       "      <td>Virginia</td>\n",
       "      <td>VA</td>\n",
       "      <td>D</td>\n",
       "      <td>8631393</td>\n",
       "      <td>0.446</td>\n",
       "      <td>1174</td>\n",
       "      <td>13.601513</td>\n",
       "    </tr>\n",
       "    <tr>\n",
       "      <th>41</th>\n",
       "      <td>South Carolina</td>\n",
       "      <td>SC</td>\n",
       "      <td>R</td>\n",
       "      <td>5118425</td>\n",
       "      <td>0.494</td>\n",
       "      <td>1131</td>\n",
       "      <td>22.096641</td>\n",
       "    </tr>\n",
       "    <tr>\n",
       "      <th>5</th>\n",
       "      <td>Minnesota</td>\n",
       "      <td>MN</td>\n",
       "      <td>D</td>\n",
       "      <td>5706494</td>\n",
       "      <td>0.428</td>\n",
       "      <td>513</td>\n",
       "      <td>8.989758</td>\n",
       "    </tr>\n",
       "  </tbody>\n",
       "</table>\n",
       "</div>"
      ],
      "text/plain": [
       "             state state_id elec_winner  population  gun_own_rate  gun_deaths  \\\n",
       "1          Florida       FL           R    21538187         0.353        3041   \n",
       "25        Kentucky       KY           R     4505836         0.546         902   \n",
       "46        Virginia       VA           D     8631393         0.446        1174   \n",
       "41  South Carolina       SC           R     5118425         0.494        1131   \n",
       "5        Minnesota       MN           D     5706494         0.428         513   \n",
       "\n",
       "    deaths_per_capita  \n",
       "1           14.119109  \n",
       "25          20.018483  \n",
       "46          13.601513  \n",
       "41          22.096641  \n",
       "5            8.989758  "
      ]
     },
     "execution_count": 21,
     "metadata": {},
     "output_type": "execute_result"
    }
   ],
   "source": [
    "combined[\"deaths_per_capita\"] = combined[\"gun_deaths\"] / (combined[\"population\"] / 100000)\n",
    "combined.sample(5)"
   ]
  },
  {
   "cell_type": "markdown",
   "id": "0371847c",
   "metadata": {},
   "source": [
    "## Plot ownership/fatality correlation"
   ]
  },
  {
   "cell_type": "code",
   "execution_count": 130,
   "id": "259d99eb",
   "metadata": {},
   "outputs": [
    {
     "data": {
      "image/png": "[encoded data removed]",
      "text/plain": [
       "<Figure size 1080x648 with 1 Axes>"
      ]
     },
     "metadata": {},
     "output_type": "display_data"
    }
   ],
   "source": [
    "REP = \"#e94949\"  #\"#de0100\"\n",
    "DEM = \"#2b90e7\"  #\"#0015bc\"\n",
    "fig = plt.figure(figsize=(15,9))\n",
    "\n",
    "sns.set(rc={\n",
    "    \"axes.facecolor\": \"#1c1c20\",\n",
    "    \"figure.facecolor\": \"#1c1c20\"\n",
    "})\n",
    "\n",
    "# calculate line of best fit\n",
    "x = combined[\"gun_own_rate\"]\n",
    "y = combined[\"deaths_per_capita\"]\n",
    "m,b = np.polyfit(x,y,1)\n",
    "\n",
    "# plot line of best fit\n",
    "y = (m * x) + b\n",
    "line = sns.lineplot(x=x ,y=y, linewidth=3, color=\"white\", alpha=0.5)\n",
    "\n",
    "# plot scatter\n",
    "ax_rep = sns.scatterplot(\n",
    "    x = \"gun_own_rate\",\n",
    "    y = \"deaths_per_capita\",\n",
    "    data = combined[combined[\"elec_winner\"] == \"R\"],\n",
    "    s = 300,\n",
    "    color = REP,\n",
    "    alpha = 1,\n",
    "    label = \"Donald Trump\"\n",
    ")\n",
    "\n",
    "ax_dem = sns.scatterplot(\n",
    "    x = \"gun_own_rate\",\n",
    "    y = \"deaths_per_capita\",\n",
    "    data = combined[combined[\"elec_winner\"] == \"D\"],\n",
    "    s = 300,\n",
    "    color = DEM,\n",
    "    alpha = 1,\n",
    "    label = \"Joe Biden\"\n",
    ")\n",
    "\n",
    "plt.title(\n",
    "    \"Gun Ownership vs. Gun Deaths (2020)\", \n",
    "    fontsize = 35, \n",
    "    fontweight = \"bold\", \n",
    "    pad = 20, \n",
    "    color = \"white\",\n",
    "    fontname = \"AppleMyungjo\"\n",
    ")\n",
    "\n",
    "# customize legend\n",
    "legend = plt.legend(\n",
    "    title = \"2020 Presidential Victors\", \n",
    "    fontsize=13,\n",
    "    labelcolor = \"white\",\n",
    "    frameon = False\n",
    ")\n",
    "\n",
    "# change size of marker in the legend\n",
    "for handle in legend.legendHandles:\n",
    "    handle.set_sizes([90])\n",
    "    \n",
    "plt.setp(legend.get_title(), color=\"white\", fontsize=15)\n",
    "\n",
    "# customize axes\n",
    "ax_rep.grid(False)\n",
    "ax_rep.spines[[\"top\",\"right\"]].set_visible(False)\n",
    "xticks = ax_rep.get_xticks().tolist()\n",
    "ax_rep.xaxis.set_major_locator(mtick.FixedLocator(xticks))\n",
    "ax_rep.set_xticklabels([\"\", \"20%\", \"30%\", \"40%\", \"50%\", \"60%\", \"\"])\n",
    "\n",
    "plt.xticks(color=\"white\", fontsize=16)\n",
    "plt.yticks(color=\"white\", fontsize=16)\n",
    "plt.ylabel(\"Gun Deaths per 100,000 Citizens\", color=\"white\", fontsize=16)\n",
    "plt.xlabel(\"Percent of Population Owning Guns\", color=\"white\", fontsize=16)\n",
    "\n",
    "plt.savefig(\"final.png\", bbox_inches=\"tight\")\n",
    "\n",
    "plt.show()"
   ]
  },
  {
   "cell_type": "markdown",
   "id": "75faf48e",
   "metadata": {},
   "source": [
    "## Conclusion\n",
    "\n",
    "While our data looks different than the original, there does still seem to be a positive correlation between gun ownership rates and gun fatality rates. This does not necessarily prove causation, and many on the right argue that we should only count gun murders, not all gun fatalities. However, the data presented in the video in question was likely sound. \n",
    "\n",
    "The distinction between party affiliation is interesting as well, with Republican states clearly among the top in both gun ownership and fatality. The opposite extreme is held exclusively by Democratic-leaning states, while many from both parties lie towards the middle.\n",
    "\n",
    "Overall, this was an interesting and fun project and I think the insights are valuable. My choice to neglect individual state labels came down to a matter of time, but if anyone wants to clone this notebook and label them, I would happily pull it into [the GitHub repository where this project is kept](https://github.com/MitchellHarrison/data-viz-for-social-media).\n",
    "\n",
    "Thanks for reading! Feel free to stop by [my Twitch stream](https://twitch.tv/mitchsworkshop) where we will build more policy-focussed data visualization soon. "
   ]
  },
  {
   "cell_type": "code",
   "execution_count": null,
   "id": "7887bd44",
   "metadata": {},
   "outputs": [],
   "source": []
  }
 ],
 "metadata": {
  "kernelspec": {
   "display_name": "Python 3 (ipykernel)",
   "language": "python",
   "name": "python3"
  },
  "language_info": {
   "codemirror_mode": {
    "name": "ipython",
    "version": 3
   },
   "file_extension": ".py",
   "mimetype": "text/x-python",
   "name": "python",
   "nbconvert_exporter": "python",
   "pygments_lexer": "ipython3",
   "version": "3.9.12"
  }
 },
 "nbformat": 4,
 "nbformat_minor": 5
}
